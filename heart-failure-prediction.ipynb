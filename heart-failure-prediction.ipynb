{
 "cells": [
  {
   "cell_type": "code",
   "execution_count": 1,
   "metadata": {},
   "outputs": [
    {
     "data": {
      "text/html": [
       "<div>\n",
       "<style scoped>\n",
       "    .dataframe tbody tr th:only-of-type {\n",
       "        vertical-align: middle;\n",
       "    }\n",
       "\n",
       "    .dataframe tbody tr th {\n",
       "        vertical-align: top;\n",
       "    }\n",
       "\n",
       "    .dataframe thead th {\n",
       "        text-align: right;\n",
       "    }\n",
       "</style>\n",
       "<table border=\"1\" class=\"dataframe\">\n",
       "  <thead>\n",
       "    <tr style=\"text-align: right;\">\n",
       "      <th></th>\n",
       "      <th>Age</th>\n",
       "      <th>Sex</th>\n",
       "      <th>ChestPainType</th>\n",
       "      <th>RestingBP</th>\n",
       "      <th>Cholesterol</th>\n",
       "      <th>FastingBS</th>\n",
       "      <th>RestingECG</th>\n",
       "      <th>MaxHR</th>\n",
       "      <th>ExerciseAngina</th>\n",
       "      <th>Oldpeak</th>\n",
       "      <th>ST_Slope</th>\n",
       "      <th>HeartDisease</th>\n",
       "    </tr>\n",
       "  </thead>\n",
       "  <tbody>\n",
       "    <tr>\n",
       "      <th>0</th>\n",
       "      <td>40</td>\n",
       "      <td>M</td>\n",
       "      <td>ATA</td>\n",
       "      <td>140</td>\n",
       "      <td>289</td>\n",
       "      <td>0</td>\n",
       "      <td>Normal</td>\n",
       "      <td>172</td>\n",
       "      <td>N</td>\n",
       "      <td>0.0</td>\n",
       "      <td>Up</td>\n",
       "      <td>0</td>\n",
       "    </tr>\n",
       "    <tr>\n",
       "      <th>1</th>\n",
       "      <td>49</td>\n",
       "      <td>F</td>\n",
       "      <td>NAP</td>\n",
       "      <td>160</td>\n",
       "      <td>180</td>\n",
       "      <td>0</td>\n",
       "      <td>Normal</td>\n",
       "      <td>156</td>\n",
       "      <td>N</td>\n",
       "      <td>1.0</td>\n",
       "      <td>Flat</td>\n",
       "      <td>1</td>\n",
       "    </tr>\n",
       "    <tr>\n",
       "      <th>2</th>\n",
       "      <td>37</td>\n",
       "      <td>M</td>\n",
       "      <td>ATA</td>\n",
       "      <td>130</td>\n",
       "      <td>283</td>\n",
       "      <td>0</td>\n",
       "      <td>ST</td>\n",
       "      <td>98</td>\n",
       "      <td>N</td>\n",
       "      <td>0.0</td>\n",
       "      <td>Up</td>\n",
       "      <td>0</td>\n",
       "    </tr>\n",
       "    <tr>\n",
       "      <th>3</th>\n",
       "      <td>48</td>\n",
       "      <td>F</td>\n",
       "      <td>ASY</td>\n",
       "      <td>138</td>\n",
       "      <td>214</td>\n",
       "      <td>0</td>\n",
       "      <td>Normal</td>\n",
       "      <td>108</td>\n",
       "      <td>Y</td>\n",
       "      <td>1.5</td>\n",
       "      <td>Flat</td>\n",
       "      <td>1</td>\n",
       "    </tr>\n",
       "    <tr>\n",
       "      <th>4</th>\n",
       "      <td>54</td>\n",
       "      <td>M</td>\n",
       "      <td>NAP</td>\n",
       "      <td>150</td>\n",
       "      <td>195</td>\n",
       "      <td>0</td>\n",
       "      <td>Normal</td>\n",
       "      <td>122</td>\n",
       "      <td>N</td>\n",
       "      <td>0.0</td>\n",
       "      <td>Up</td>\n",
       "      <td>0</td>\n",
       "    </tr>\n",
       "  </tbody>\n",
       "</table>\n",
       "</div>"
      ],
      "text/plain": [
       "   Age Sex ChestPainType  RestingBP  Cholesterol  FastingBS RestingECG  MaxHR  \\\n",
       "0   40   M           ATA        140          289          0     Normal    172   \n",
       "1   49   F           NAP        160          180          0     Normal    156   \n",
       "2   37   M           ATA        130          283          0         ST     98   \n",
       "3   48   F           ASY        138          214          0     Normal    108   \n",
       "4   54   M           NAP        150          195          0     Normal    122   \n",
       "\n",
       "  ExerciseAngina  Oldpeak ST_Slope  HeartDisease  \n",
       "0              N      0.0       Up             0  \n",
       "1              N      1.0     Flat             1  \n",
       "2              N      0.0       Up             0  \n",
       "3              Y      1.5     Flat             1  \n",
       "4              N      0.0       Up             0  "
      ]
     },
     "execution_count": 1,
     "metadata": {},
     "output_type": "execute_result"
    }
   ],
   "source": [
    "import pandas as pd\n",
    "\n",
    "df = pd.read_csv('./data/heart.csv')\n",
    "df.head()"
   ]
  },
  {
   "cell_type": "code",
   "execution_count": 2,
   "metadata": {},
   "outputs": [
    {
     "name": "stdout",
     "output_type": "stream",
     "text": [
      "<class 'pandas.core.frame.DataFrame'>\n",
      "RangeIndex: 918 entries, 0 to 917\n",
      "Data columns (total 12 columns):\n",
      " #   Column          Non-Null Count  Dtype  \n",
      "---  ------          --------------  -----  \n",
      " 0   Age             918 non-null    int64  \n",
      " 1   Sex             918 non-null    object \n",
      " 2   ChestPainType   918 non-null    object \n",
      " 3   RestingBP       918 non-null    int64  \n",
      " 4   Cholesterol     918 non-null    int64  \n",
      " 5   FastingBS       918 non-null    int64  \n",
      " 6   RestingECG      918 non-null    object \n",
      " 7   MaxHR           918 non-null    int64  \n",
      " 8   ExerciseAngina  918 non-null    object \n",
      " 9   Oldpeak         918 non-null    float64\n",
      " 10  ST_Slope        918 non-null    object \n",
      " 11  HeartDisease    918 non-null    int64  \n",
      "dtypes: float64(1), int64(6), object(5)\n",
      "memory usage: 86.2+ KB\n"
     ]
    }
   ],
   "source": [
    "df.info()"
   ]
  },
  {
   "cell_type": "code",
   "execution_count": 3,
   "metadata": {},
   "outputs": [
    {
     "data": {
      "text/plain": [
       "Age               0\n",
       "Sex               0\n",
       "ChestPainType     0\n",
       "RestingBP         0\n",
       "Cholesterol       0\n",
       "FastingBS         0\n",
       "RestingECG        0\n",
       "MaxHR             0\n",
       "ExerciseAngina    0\n",
       "Oldpeak           0\n",
       "ST_Slope          0\n",
       "HeartDisease      0\n",
       "dtype: int64"
      ]
     },
     "execution_count": 3,
     "metadata": {},
     "output_type": "execute_result"
    }
   ],
   "source": [
    "df.isna().sum()"
   ]
  },
  {
   "cell_type": "code",
   "execution_count": 4,
   "metadata": {},
   "outputs": [
    {
     "data": {
      "text/html": [
       "<div>\n",
       "<style scoped>\n",
       "    .dataframe tbody tr th:only-of-type {\n",
       "        vertical-align: middle;\n",
       "    }\n",
       "\n",
       "    .dataframe tbody tr th {\n",
       "        vertical-align: top;\n",
       "    }\n",
       "\n",
       "    .dataframe thead th {\n",
       "        text-align: right;\n",
       "    }\n",
       "</style>\n",
       "<table border=\"1\" class=\"dataframe\">\n",
       "  <thead>\n",
       "    <tr style=\"text-align: right;\">\n",
       "      <th></th>\n",
       "      <th>count</th>\n",
       "      <th>unique</th>\n",
       "      <th>top</th>\n",
       "      <th>freq</th>\n",
       "      <th>mean</th>\n",
       "      <th>std</th>\n",
       "      <th>min</th>\n",
       "      <th>25%</th>\n",
       "      <th>50%</th>\n",
       "      <th>75%</th>\n",
       "      <th>max</th>\n",
       "    </tr>\n",
       "  </thead>\n",
       "  <tbody>\n",
       "    <tr>\n",
       "      <th>Age</th>\n",
       "      <td>918.0</td>\n",
       "      <td>NaN</td>\n",
       "      <td>NaN</td>\n",
       "      <td>NaN</td>\n",
       "      <td>53.510893</td>\n",
       "      <td>9.432617</td>\n",
       "      <td>28.0</td>\n",
       "      <td>47.0</td>\n",
       "      <td>54.0</td>\n",
       "      <td>60.0</td>\n",
       "      <td>77.0</td>\n",
       "    </tr>\n",
       "    <tr>\n",
       "      <th>Sex</th>\n",
       "      <td>918</td>\n",
       "      <td>2</td>\n",
       "      <td>M</td>\n",
       "      <td>725</td>\n",
       "      <td>NaN</td>\n",
       "      <td>NaN</td>\n",
       "      <td>NaN</td>\n",
       "      <td>NaN</td>\n",
       "      <td>NaN</td>\n",
       "      <td>NaN</td>\n",
       "      <td>NaN</td>\n",
       "    </tr>\n",
       "    <tr>\n",
       "      <th>ChestPainType</th>\n",
       "      <td>918</td>\n",
       "      <td>4</td>\n",
       "      <td>ASY</td>\n",
       "      <td>496</td>\n",
       "      <td>NaN</td>\n",
       "      <td>NaN</td>\n",
       "      <td>NaN</td>\n",
       "      <td>NaN</td>\n",
       "      <td>NaN</td>\n",
       "      <td>NaN</td>\n",
       "      <td>NaN</td>\n",
       "    </tr>\n",
       "    <tr>\n",
       "      <th>RestingBP</th>\n",
       "      <td>918.0</td>\n",
       "      <td>NaN</td>\n",
       "      <td>NaN</td>\n",
       "      <td>NaN</td>\n",
       "      <td>132.396514</td>\n",
       "      <td>18.514154</td>\n",
       "      <td>0.0</td>\n",
       "      <td>120.0</td>\n",
       "      <td>130.0</td>\n",
       "      <td>140.0</td>\n",
       "      <td>200.0</td>\n",
       "    </tr>\n",
       "    <tr>\n",
       "      <th>Cholesterol</th>\n",
       "      <td>918.0</td>\n",
       "      <td>NaN</td>\n",
       "      <td>NaN</td>\n",
       "      <td>NaN</td>\n",
       "      <td>198.799564</td>\n",
       "      <td>109.384145</td>\n",
       "      <td>0.0</td>\n",
       "      <td>173.25</td>\n",
       "      <td>223.0</td>\n",
       "      <td>267.0</td>\n",
       "      <td>603.0</td>\n",
       "    </tr>\n",
       "    <tr>\n",
       "      <th>FastingBS</th>\n",
       "      <td>918.0</td>\n",
       "      <td>NaN</td>\n",
       "      <td>NaN</td>\n",
       "      <td>NaN</td>\n",
       "      <td>0.233115</td>\n",
       "      <td>0.423046</td>\n",
       "      <td>0.0</td>\n",
       "      <td>0.0</td>\n",
       "      <td>0.0</td>\n",
       "      <td>0.0</td>\n",
       "      <td>1.0</td>\n",
       "    </tr>\n",
       "    <tr>\n",
       "      <th>RestingECG</th>\n",
       "      <td>918</td>\n",
       "      <td>3</td>\n",
       "      <td>Normal</td>\n",
       "      <td>552</td>\n",
       "      <td>NaN</td>\n",
       "      <td>NaN</td>\n",
       "      <td>NaN</td>\n",
       "      <td>NaN</td>\n",
       "      <td>NaN</td>\n",
       "      <td>NaN</td>\n",
       "      <td>NaN</td>\n",
       "    </tr>\n",
       "    <tr>\n",
       "      <th>MaxHR</th>\n",
       "      <td>918.0</td>\n",
       "      <td>NaN</td>\n",
       "      <td>NaN</td>\n",
       "      <td>NaN</td>\n",
       "      <td>136.809368</td>\n",
       "      <td>25.460334</td>\n",
       "      <td>60.0</td>\n",
       "      <td>120.0</td>\n",
       "      <td>138.0</td>\n",
       "      <td>156.0</td>\n",
       "      <td>202.0</td>\n",
       "    </tr>\n",
       "    <tr>\n",
       "      <th>ExerciseAngina</th>\n",
       "      <td>918</td>\n",
       "      <td>2</td>\n",
       "      <td>N</td>\n",
       "      <td>547</td>\n",
       "      <td>NaN</td>\n",
       "      <td>NaN</td>\n",
       "      <td>NaN</td>\n",
       "      <td>NaN</td>\n",
       "      <td>NaN</td>\n",
       "      <td>NaN</td>\n",
       "      <td>NaN</td>\n",
       "    </tr>\n",
       "    <tr>\n",
       "      <th>Oldpeak</th>\n",
       "      <td>918.0</td>\n",
       "      <td>NaN</td>\n",
       "      <td>NaN</td>\n",
       "      <td>NaN</td>\n",
       "      <td>0.887364</td>\n",
       "      <td>1.06657</td>\n",
       "      <td>-2.6</td>\n",
       "      <td>0.0</td>\n",
       "      <td>0.6</td>\n",
       "      <td>1.5</td>\n",
       "      <td>6.2</td>\n",
       "    </tr>\n",
       "    <tr>\n",
       "      <th>ST_Slope</th>\n",
       "      <td>918</td>\n",
       "      <td>3</td>\n",
       "      <td>Flat</td>\n",
       "      <td>460</td>\n",
       "      <td>NaN</td>\n",
       "      <td>NaN</td>\n",
       "      <td>NaN</td>\n",
       "      <td>NaN</td>\n",
       "      <td>NaN</td>\n",
       "      <td>NaN</td>\n",
       "      <td>NaN</td>\n",
       "    </tr>\n",
       "    <tr>\n",
       "      <th>HeartDisease</th>\n",
       "      <td>918.0</td>\n",
       "      <td>NaN</td>\n",
       "      <td>NaN</td>\n",
       "      <td>NaN</td>\n",
       "      <td>0.553377</td>\n",
       "      <td>0.497414</td>\n",
       "      <td>0.0</td>\n",
       "      <td>0.0</td>\n",
       "      <td>1.0</td>\n",
       "      <td>1.0</td>\n",
       "      <td>1.0</td>\n",
       "    </tr>\n",
       "  </tbody>\n",
       "</table>\n",
       "</div>"
      ],
      "text/plain": [
       "                count unique     top freq        mean         std   min  \\\n",
       "Age             918.0    NaN     NaN  NaN   53.510893    9.432617  28.0   \n",
       "Sex               918      2       M  725         NaN         NaN   NaN   \n",
       "ChestPainType     918      4     ASY  496         NaN         NaN   NaN   \n",
       "RestingBP       918.0    NaN     NaN  NaN  132.396514   18.514154   0.0   \n",
       "Cholesterol     918.0    NaN     NaN  NaN  198.799564  109.384145   0.0   \n",
       "FastingBS       918.0    NaN     NaN  NaN    0.233115    0.423046   0.0   \n",
       "RestingECG        918      3  Normal  552         NaN         NaN   NaN   \n",
       "MaxHR           918.0    NaN     NaN  NaN  136.809368   25.460334  60.0   \n",
       "ExerciseAngina    918      2       N  547         NaN         NaN   NaN   \n",
       "Oldpeak         918.0    NaN     NaN  NaN    0.887364     1.06657  -2.6   \n",
       "ST_Slope          918      3    Flat  460         NaN         NaN   NaN   \n",
       "HeartDisease    918.0    NaN     NaN  NaN    0.553377    0.497414   0.0   \n",
       "\n",
       "                   25%    50%    75%    max  \n",
       "Age               47.0   54.0   60.0   77.0  \n",
       "Sex                NaN    NaN    NaN    NaN  \n",
       "ChestPainType      NaN    NaN    NaN    NaN  \n",
       "RestingBP        120.0  130.0  140.0  200.0  \n",
       "Cholesterol     173.25  223.0  267.0  603.0  \n",
       "FastingBS          0.0    0.0    0.0    1.0  \n",
       "RestingECG         NaN    NaN    NaN    NaN  \n",
       "MaxHR            120.0  138.0  156.0  202.0  \n",
       "ExerciseAngina     NaN    NaN    NaN    NaN  \n",
       "Oldpeak            0.0    0.6    1.5    6.2  \n",
       "ST_Slope           NaN    NaN    NaN    NaN  \n",
       "HeartDisease       0.0    1.0    1.0    1.0  "
      ]
     },
     "execution_count": 4,
     "metadata": {},
     "output_type": "execute_result"
    }
   ],
   "source": [
    "desc_df = df.describe(include='all').T\n",
    "desc_df"
   ]
  },
  {
   "cell_type": "code",
   "execution_count": 5,
   "metadata": {},
   "outputs": [],
   "source": [
    "X = df.drop('HeartDisease',axis=1)\n",
    "y = df['HeartDisease']"
   ]
  },
  {
   "cell_type": "code",
   "execution_count": 28,
   "metadata": {},
   "outputs": [
    {
     "name": "stdout",
     "output_type": "stream",
     "text": [
      "Train data shape: (826, 11) \n",
      "Test data shape: (92, 11)\n"
     ]
    }
   ],
   "source": [
    "from sklearn.model_selection import train_test_split\n",
    "\n",
    "X_train,X_test,y_train,y_test = train_test_split(X,y,test_size=0.1,random_state=30)\n",
    "print(\"Train data shape:\", X_train.shape,\n",
    "      \"\\nTest data shape:\",X_test.shape)\n"
   ]
  },
  {
   "cell_type": "code",
   "execution_count": 29,
   "metadata": {},
   "outputs": [
    {
     "data": {
      "text/plain": [
       "0"
      ]
     },
     "execution_count": 29,
     "metadata": {},
     "output_type": "execute_result"
    }
   ],
   "source": [
    "len(X_train[X_train.duplicated()])"
   ]
  },
  {
   "attachments": {
    "image.png": {
     "image/png": "[encoded data removed]"
    }
   },
   "cell_type": "markdown",
   "metadata": {},
   "source": [
    "Analyzing unexpected zeros in both features RestingBP and Cholesterol:\n",
    "\n",
    "![image.png](attachment:image.png)"
   ]
  },
  {
   "cell_type": "code",
   "execution_count": 30,
   "metadata": {},
   "outputs": [
    {
     "name": "stdout",
     "output_type": "stream",
     "text": [
      "Whole Data: Number of Zeros in RestingBP 1\n",
      "Whole Data: Number of Zeros in Cholesterol 172\n",
      "\n",
      "\n",
      "Train Data: Number of Zeros in RestingBP 1\n",
      "Train Data: Number of Zeros in Cholesterol 155\n"
     ]
    }
   ],
   "source": [
    "# \n",
    "for c in ['RestingBP','Cholesterol']:\n",
    "    print(f'Whole Data: Number of Zeros in {c}',X[X[c] == 0].shape[0])\n",
    "print('\\n')\n",
    "for c in ['RestingBP','Cholesterol']:\n",
    "    print(f'Train Data: Number of Zeros in {c}',X_train[X_train[c] == 0].shape[0])\n"
   ]
  },
  {
   "cell_type": "code",
   "execution_count": 9,
   "metadata": {},
   "outputs": [
    {
     "data": {
      "image/png": "[encoded data removed]",
      "text/plain": [
       "<Figure size 640x480 with 1 Axes>"
      ]
     },
     "metadata": {},
     "output_type": "display_data"
    },
    {
     "data": {
      "image/png": "[encoded data removed]",
      "text/plain": [
       "<Figure size 640x480 with 1 Axes>"
      ]
     },
     "metadata": {},
     "output_type": "display_data"
    }
   ],
   "source": [
    "from matplotlib import pyplot as plt \n",
    "\n",
    "for f in ['RestingBP','Cholesterol']:\n",
    "    plt.hist(X_train[f])\n",
    "    plt.xlabel(f)\n",
    "    plt.show()"
   ]
  },
  {
   "cell_type": "markdown",
   "metadata": {},
   "source": [
    "Now we need to impoute those *155* zeros in Cholesterol and *1* zero in RestingBP that remained in train data"
   ]
  },
  {
   "cell_type": "code",
   "execution_count": 31,
   "metadata": {},
   "outputs": [
    {
     "data": {
      "text/html": [
       "<div>\n",
       "<style scoped>\n",
       "    .dataframe tbody tr th:only-of-type {\n",
       "        vertical-align: middle;\n",
       "    }\n",
       "\n",
       "    .dataframe tbody tr th {\n",
       "        vertical-align: top;\n",
       "    }\n",
       "\n",
       "    .dataframe thead th {\n",
       "        text-align: right;\n",
       "    }\n",
       "</style>\n",
       "<table border=\"1\" class=\"dataframe\">\n",
       "  <thead>\n",
       "    <tr style=\"text-align: right;\">\n",
       "      <th></th>\n",
       "      <th>count</th>\n",
       "      <th>mean</th>\n",
       "      <th>std</th>\n",
       "      <th>min</th>\n",
       "      <th>25%</th>\n",
       "      <th>50%</th>\n",
       "      <th>75%</th>\n",
       "      <th>max</th>\n",
       "    </tr>\n",
       "  </thead>\n",
       "  <tbody>\n",
       "    <tr>\n",
       "      <th>Age</th>\n",
       "      <td>826.0</td>\n",
       "      <td>53.458838</td>\n",
       "      <td>9.392008</td>\n",
       "      <td>28.0</td>\n",
       "      <td>47.0</td>\n",
       "      <td>54.0</td>\n",
       "      <td>60.0</td>\n",
       "      <td>77.0</td>\n",
       "    </tr>\n",
       "    <tr>\n",
       "      <th>RestingBP</th>\n",
       "      <td>826.0</td>\n",
       "      <td>132.383777</td>\n",
       "      <td>18.162210</td>\n",
       "      <td>80.0</td>\n",
       "      <td>120.0</td>\n",
       "      <td>130.0</td>\n",
       "      <td>140.0</td>\n",
       "      <td>200.0</td>\n",
       "    </tr>\n",
       "    <tr>\n",
       "      <th>Cholesterol</th>\n",
       "      <td>826.0</td>\n",
       "      <td>243.348668</td>\n",
       "      <td>53.563574</td>\n",
       "      <td>85.0</td>\n",
       "      <td>214.0</td>\n",
       "      <td>237.0</td>\n",
       "      <td>266.0</td>\n",
       "      <td>603.0</td>\n",
       "    </tr>\n",
       "    <tr>\n",
       "      <th>FastingBS</th>\n",
       "      <td>826.0</td>\n",
       "      <td>0.239709</td>\n",
       "      <td>0.427165</td>\n",
       "      <td>0.0</td>\n",
       "      <td>0.0</td>\n",
       "      <td>0.0</td>\n",
       "      <td>0.0</td>\n",
       "      <td>1.0</td>\n",
       "    </tr>\n",
       "    <tr>\n",
       "      <th>MaxHR</th>\n",
       "      <td>826.0</td>\n",
       "      <td>136.796610</td>\n",
       "      <td>25.467551</td>\n",
       "      <td>60.0</td>\n",
       "      <td>120.0</td>\n",
       "      <td>138.0</td>\n",
       "      <td>156.0</td>\n",
       "      <td>202.0</td>\n",
       "    </tr>\n",
       "    <tr>\n",
       "      <th>Oldpeak</th>\n",
       "      <td>826.0</td>\n",
       "      <td>0.870339</td>\n",
       "      <td>1.038731</td>\n",
       "      <td>-2.6</td>\n",
       "      <td>0.0</td>\n",
       "      <td>0.5</td>\n",
       "      <td>1.5</td>\n",
       "      <td>5.0</td>\n",
       "    </tr>\n",
       "  </tbody>\n",
       "</table>\n",
       "</div>"
      ],
      "text/plain": [
       "             count        mean        std   min    25%    50%    75%    max\n",
       "Age          826.0   53.458838   9.392008  28.0   47.0   54.0   60.0   77.0\n",
       "RestingBP    826.0  132.383777  18.162210  80.0  120.0  130.0  140.0  200.0\n",
       "Cholesterol  826.0  243.348668  53.563574  85.0  214.0  237.0  266.0  603.0\n",
       "FastingBS    826.0    0.239709   0.427165   0.0    0.0    0.0    0.0    1.0\n",
       "MaxHR        826.0  136.796610  25.467551  60.0  120.0  138.0  156.0  202.0\n",
       "Oldpeak      826.0    0.870339   1.038731  -2.6    0.0    0.5    1.5    5.0"
      ]
     },
     "execution_count": 31,
     "metadata": {},
     "output_type": "execute_result"
    }
   ],
   "source": [
    "from sklearn.impute import SimpleImputer\n",
    "import numpy as np\n",
    "\n",
    "imp = SimpleImputer(missing_values=0,strategy='median')\n",
    "\n",
    "for f in ['RestingBP','Cholesterol']:\n",
    "    X_train[f] = imp.fit_transform(X_train[f].values.reshape(-1,1))[:,0]\n",
    "\n",
    "X_train.describe().T"
   ]
  },
  {
   "cell_type": "code",
   "execution_count": 33,
   "metadata": {},
   "outputs": [
    {
     "data": {
      "image/png": "[encoded data removed]",
      "text/plain": [
       "<Figure size 640x480 with 1 Axes>"
      ]
     },
     "metadata": {},
     "output_type": "display_data"
    },
    {
     "data": {
      "image/png": "[encoded data removed]",
      "text/plain": [
       "<Figure size 640x480 with 1 Axes>"
      ]
     },
     "metadata": {},
     "output_type": "display_data"
    }
   ],
   "source": [
    "for f in ['RestingBP','Cholesterol']:\n",
    "    plt.hist(X_train[f])\n",
    "    plt.xlabel(f)\n",
    "    plt.show()"
   ]
  },
  {
   "cell_type": "code",
   "execution_count": 34,
   "metadata": {},
   "outputs": [
    {
     "data": {
      "text/plain": [
       "array(['Sex', 'ChestPainType', 'RestingECG', 'ExerciseAngina', 'ST_Slope'],\n",
       "      dtype=object)"
      ]
     },
     "execution_count": 34,
     "metadata": {},
     "output_type": "execute_result"
    }
   ],
   "source": [
    "# Explore Categorical Data\n",
    "cat_cols = desc_df['unique'].dropna().index.values\n",
    "cat_cols"
   ]
  },
  {
   "cell_type": "code",
   "execution_count": 13,
   "metadata": {},
   "outputs": [
    {
     "data": {
      "text/plain": [
       "array(['Normal', 'ST', 'LVH'], dtype=object)"
      ]
     },
     "execution_count": 13,
     "metadata": {},
     "output_type": "execute_result"
    }
   ],
   "source": [
    "X['RestingECG'].unique()"
   ]
  },
  {
   "cell_type": "code",
   "execution_count": 35,
   "metadata": {},
   "outputs": [
    {
     "name": "stdout",
     "output_type": "stream",
     "text": [
      "Positive values 463 0.5605326876513317\n",
      "Negative values 363 0.43946731234866826\n"
     ]
    }
   ],
   "source": [
    "#Check target labels are banaced\n",
    "\n",
    "print(\"Positive values\",y_train[y_train == 1].count(),y_train[y_train == 1].count()/y_train.count())\n",
    "print(\"Negative values\",y_train[y_train == 0].count(),y_train[y_train == 0].count()/y_train.count())\n"
   ]
  },
  {
   "cell_type": "markdown",
   "metadata": {},
   "source": [
    "Almost Balanced, So we can safely use Accurecy metric to evaluate Model"
   ]
  },
  {
   "cell_type": "markdown",
   "metadata": {},
   "source": [
    "Now we can implement the folowing tree-based Algorithms with label encoding:\n",
    " 1. Decision Tree\n",
    " 2. Random Forest\n",
    " 3. AdaBoost"
   ]
  },
  {
   "cell_type": "code",
   "execution_count": 15,
   "metadata": {},
   "outputs": [
    {
     "data": {
      "text/html": [
       "<div>\n",
       "<style scoped>\n",
       "    .dataframe tbody tr th:only-of-type {\n",
       "        vertical-align: middle;\n",
       "    }\n",
       "\n",
       "    .dataframe tbody tr th {\n",
       "        vertical-align: top;\n",
       "    }\n",
       "\n",
       "    .dataframe thead th {\n",
       "        text-align: right;\n",
       "    }\n",
       "</style>\n",
       "<table border=\"1\" class=\"dataframe\">\n",
       "  <thead>\n",
       "    <tr style=\"text-align: right;\">\n",
       "      <th></th>\n",
       "      <th>count</th>\n",
       "      <th>mean</th>\n",
       "      <th>std</th>\n",
       "      <th>min</th>\n",
       "      <th>25%</th>\n",
       "      <th>50%</th>\n",
       "      <th>75%</th>\n",
       "      <th>max</th>\n",
       "    </tr>\n",
       "  </thead>\n",
       "  <tbody>\n",
       "    <tr>\n",
       "      <th>Age</th>\n",
       "      <td>826.0</td>\n",
       "      <td>53.458838</td>\n",
       "      <td>9.392008</td>\n",
       "      <td>28.0</td>\n",
       "      <td>47.0</td>\n",
       "      <td>54.0</td>\n",
       "      <td>60.0</td>\n",
       "      <td>77.0</td>\n",
       "    </tr>\n",
       "    <tr>\n",
       "      <th>Sex</th>\n",
       "      <td>826.0</td>\n",
       "      <td>0.786925</td>\n",
       "      <td>0.409728</td>\n",
       "      <td>0.0</td>\n",
       "      <td>1.0</td>\n",
       "      <td>1.0</td>\n",
       "      <td>1.0</td>\n",
       "      <td>1.0</td>\n",
       "    </tr>\n",
       "    <tr>\n",
       "      <th>ChestPainType</th>\n",
       "      <td>826.0</td>\n",
       "      <td>0.777240</td>\n",
       "      <td>0.950287</td>\n",
       "      <td>0.0</td>\n",
       "      <td>0.0</td>\n",
       "      <td>0.0</td>\n",
       "      <td>2.0</td>\n",
       "      <td>3.0</td>\n",
       "    </tr>\n",
       "    <tr>\n",
       "      <th>RestingBP</th>\n",
       "      <td>826.0</td>\n",
       "      <td>132.383777</td>\n",
       "      <td>18.162210</td>\n",
       "      <td>80.0</td>\n",
       "      <td>120.0</td>\n",
       "      <td>130.0</td>\n",
       "      <td>140.0</td>\n",
       "      <td>200.0</td>\n",
       "    </tr>\n",
       "    <tr>\n",
       "      <th>Cholesterol</th>\n",
       "      <td>826.0</td>\n",
       "      <td>243.348668</td>\n",
       "      <td>53.563574</td>\n",
       "      <td>85.0</td>\n",
       "      <td>214.0</td>\n",
       "      <td>237.0</td>\n",
       "      <td>266.0</td>\n",
       "      <td>603.0</td>\n",
       "    </tr>\n",
       "    <tr>\n",
       "      <th>FastingBS</th>\n",
       "      <td>826.0</td>\n",
       "      <td>0.239709</td>\n",
       "      <td>0.427165</td>\n",
       "      <td>0.0</td>\n",
       "      <td>0.0</td>\n",
       "      <td>0.0</td>\n",
       "      <td>0.0</td>\n",
       "      <td>1.0</td>\n",
       "    </tr>\n",
       "    <tr>\n",
       "      <th>RestingECG</th>\n",
       "      <td>826.0</td>\n",
       "      <td>0.991525</td>\n",
       "      <td>0.629517</td>\n",
       "      <td>0.0</td>\n",
       "      <td>1.0</td>\n",
       "      <td>1.0</td>\n",
       "      <td>1.0</td>\n",
       "      <td>2.0</td>\n",
       "    </tr>\n",
       "    <tr>\n",
       "      <th>MaxHR</th>\n",
       "      <td>826.0</td>\n",
       "      <td>136.796610</td>\n",
       "      <td>25.467551</td>\n",
       "      <td>60.0</td>\n",
       "      <td>120.0</td>\n",
       "      <td>138.0</td>\n",
       "      <td>156.0</td>\n",
       "      <td>202.0</td>\n",
       "    </tr>\n",
       "    <tr>\n",
       "      <th>ExerciseAngina</th>\n",
       "      <td>826.0</td>\n",
       "      <td>0.404358</td>\n",
       "      <td>0.491065</td>\n",
       "      <td>0.0</td>\n",
       "      <td>0.0</td>\n",
       "      <td>0.0</td>\n",
       "      <td>1.0</td>\n",
       "      <td>1.0</td>\n",
       "    </tr>\n",
       "    <tr>\n",
       "      <th>Oldpeak</th>\n",
       "      <td>826.0</td>\n",
       "      <td>0.870339</td>\n",
       "      <td>1.038731</td>\n",
       "      <td>-2.6</td>\n",
       "      <td>0.0</td>\n",
       "      <td>0.5</td>\n",
       "      <td>1.5</td>\n",
       "      <td>5.0</td>\n",
       "    </tr>\n",
       "    <tr>\n",
       "      <th>ST_Slope</th>\n",
       "      <td>826.0</td>\n",
       "      <td>1.361985</td>\n",
       "      <td>0.599764</td>\n",
       "      <td>0.0</td>\n",
       "      <td>1.0</td>\n",
       "      <td>1.0</td>\n",
       "      <td>2.0</td>\n",
       "      <td>2.0</td>\n",
       "    </tr>\n",
       "  </tbody>\n",
       "</table>\n",
       "</div>"
      ],
      "text/plain": [
       "                count        mean        std   min    25%    50%    75%    max\n",
       "Age             826.0   53.458838   9.392008  28.0   47.0   54.0   60.0   77.0\n",
       "Sex             826.0    0.786925   0.409728   0.0    1.0    1.0    1.0    1.0\n",
       "ChestPainType   826.0    0.777240   0.950287   0.0    0.0    0.0    2.0    3.0\n",
       "RestingBP       826.0  132.383777  18.162210  80.0  120.0  130.0  140.0  200.0\n",
       "Cholesterol     826.0  243.348668  53.563574  85.0  214.0  237.0  266.0  603.0\n",
       "FastingBS       826.0    0.239709   0.427165   0.0    0.0    0.0    0.0    1.0\n",
       "RestingECG      826.0    0.991525   0.629517   0.0    1.0    1.0    1.0    2.0\n",
       "MaxHR           826.0  136.796610  25.467551  60.0  120.0  138.0  156.0  202.0\n",
       "ExerciseAngina  826.0    0.404358   0.491065   0.0    0.0    0.0    1.0    1.0\n",
       "Oldpeak         826.0    0.870339   1.038731  -2.6    0.0    0.5    1.5    5.0\n",
       "ST_Slope        826.0    1.361985   0.599764   0.0    1.0    1.0    2.0    2.0"
      ]
     },
     "execution_count": 15,
     "metadata": {},
     "output_type": "execute_result"
    }
   ],
   "source": [
    "from sklearn.preprocessing  import LabelEncoder\n",
    "\n",
    "X_train_labeled = X_train.copy()\n",
    "X_test_labeled = X_test.copy()\n",
    "for f in cat_cols:\n",
    "    le = LabelEncoder()\n",
    "    X_train_labeled[f] = le.fit_transform(X_train_labeled[f])\n",
    "    X_test_labeled[f] = le.transform(X_test_labeled[f])\n",
    "    \n",
    "X_train_labeled.describe(include='all').T"
   ]
  },
  {
   "cell_type": "code",
   "execution_count": 16,
   "metadata": {},
   "outputs": [],
   "source": [
    "from sklearn.linear_model import  LogisticRegression\n",
    "from sklearn.model_selection import  GridSearchCV\n",
    "import warnings\n",
    "\n",
    "def evaluate_classifier(X,y,clf,params):\n",
    "\n",
    "    grid0 = GridSearchCV(estimator=type(clf)(),param_grid={},cv=3)\n",
    "                        \n",
    "    gridp = GridSearchCV(estimator=type(clf)(),\n",
    "                        param_grid=params,\n",
    "                        cv=3,\n",
    "                        verbose=1)\n",
    "    \n",
    "    with warnings.catch_warnings():\n",
    "        warnings.simplefilter('ignore')\n",
    "        grid0.fit(X, y)\n",
    "        gridp.fit(X, y)\n",
    "\n",
    "    if gridp.best_score_ > grid0.best_score_:\n",
    "        grid = gridp\n",
    "    else:\n",
    "         grid = grid0\n",
    "\n",
    "    print('Calssifier',grid.best_estimator_)\n",
    "    print('Best CV Score', grid.best_score_)\n",
    "    print('Best Params',grid.best_params_)\n",
    "\n",
    "\n",
    "    return grid\n"
   ]
  },
  {
   "cell_type": "markdown",
   "metadata": {},
   "source": [
    "Hereunder are the models results"
   ]
  },
  {
   "cell_type": "code",
   "execution_count": 17,
   "metadata": {},
   "outputs": [
    {
     "name": "stdout",
     "output_type": "stream",
     "text": [
      "Fitting 3 folds for each of 28116 candidates, totalling 84348 fits\n",
      "Calssifier DecisionTreeClassifier(criterion='entropy', max_depth=9, max_features=5,\n",
      "                       min_samples_split=35)\n",
      "Best CV Score 0.8620026350461133\n",
      "Best Params {'criterion': 'entropy', 'max_depth': 9, 'max_features': 5, 'min_samples_split': 35, 'splitter': 'best'}\n"
     ]
    }
   ],
   "source": [
    "#Decision Tree\n",
    "from sklearn.tree import DecisionTreeClassifier \n",
    "\n",
    "tree = evaluate_classifier(X_train_labeled,y_train,\n",
    "                           DecisionTreeClassifier(),\n",
    "                           {'criterion' : ['gini', 'entropy'],\n",
    "                            'splitter': ['best','random'],\n",
    "                            'max_depth': range(1,10),\n",
    "                            'min_samples_split': range(30,101),\n",
    "                            'max_features' : [*range(1,10),'sqrt','log2']\n",
    "                           })"
   ]
  },
  {
   "cell_type": "code",
   "execution_count": 18,
   "metadata": {},
   "outputs": [
    {
     "name": "stdout",
     "output_type": "stream",
     "text": [
      "Fitting 3 folds for each of 58800 candidates, totalling 176400 fits\n",
      "Calssifier RandomForestClassifier(criterion='entropy', max_depth=6, min_samples_split=28,\n",
      "                       n_estimators=16)\n",
      "Best CV Score 0.8789108476064996\n",
      "Best Params {'ccp_alpha': 0.0, 'criterion': 'entropy', 'max_depth': 6, 'max_features': 'sqrt', 'min_samples_split': 28, 'n_estimators': 16}\n"
     ]
    }
   ],
   "source": [
    "# Random Forest\n",
    "from  sklearn.ensemble import RandomForestClassifier\n",
    "forest = evaluate_classifier(X_train_labeled,y_train,\n",
    "                             RandomForestClassifier(),\n",
    "                             {\n",
    "                            'n_estimators': range(7,21),\n",
    "                            'criterion' : ['gini', 'entropy'],\n",
    "                            'ccp_alpha': [0.,0.2,0.5,0.7,1],\n",
    "                            'max_depth': range(5,11),\n",
    "                            'min_samples_split': range(25,35),\n",
    "                            'max_features' : [*range(6,11),'sqrt','log2']  \n",
    "                             })"
   ]
  },
  {
   "cell_type": "code",
   "execution_count": 19,
   "metadata": {},
   "outputs": [
    {
     "name": "stdout",
     "output_type": "stream",
     "text": [
      "Fitting 3 folds for each of 1000 candidates, totalling 3000 fits\n",
      "Calssifier AdaBoostClassifier(learning_rate=0.4, n_estimators=9)\n",
      "Best CV Score 0.8740711462450593\n",
      "Best Params {'algorithm': 'SAMME.R', 'learning_rate': 0.4, 'n_estimators': 9}\n"
     ]
    }
   ],
   "source": [
    "# Adaboost\n",
    "from  sklearn.ensemble import AdaBoostClassifier\n",
    "\n",
    "ada = evaluate_classifier(X_train_labeled,y_train,\n",
    "                          AdaBoostClassifier(),\n",
    "                          {\n",
    "                            'n_estimators': range(1,51),\n",
    "                            'learning_rate': [0.,0.1,0.3,0.4,0.5,0.6,0.7,1,3,10],\n",
    "                            'algorithm': ['SAMME','SAMME.R']\n",
    "                          })"
   ]
  },
  {
   "cell_type": "markdown",
   "metadata": {},
   "source": [
    "Next Step, is to implement the folowing Algorithms and evaluate each with / without using PCA:\n",
    " 1. Logistic Regression\n",
    " 2. Support Vector Machine\n",
    " 2. K-Nearest Neighbors (KNN) Algorithm"
   ]
  },
  {
   "cell_type": "markdown",
   "metadata": {},
   "source": [
    "But this time, we need to prepare date by:\n",
    "1.  Use one hot encoder for nominal categorical data.\n",
    "2.  Scale numerical data using StandardScaler."
   ]
  },
  {
   "cell_type": "code",
   "execution_count": 55,
   "metadata": {},
   "outputs": [
    {
     "name": "stdout",
     "output_type": "stream",
     "text": [
      "(826, 11) (826, 15)\n"
     ]
    },
    {
     "data": {
      "text/html": [
       "<div>\n",
       "<style scoped>\n",
       "    .dataframe tbody tr th:only-of-type {\n",
       "        vertical-align: middle;\n",
       "    }\n",
       "\n",
       "    .dataframe tbody tr th {\n",
       "        vertical-align: top;\n",
       "    }\n",
       "\n",
       "    .dataframe thead th {\n",
       "        text-align: right;\n",
       "    }\n",
       "</style>\n",
       "<table border=\"1\" class=\"dataframe\">\n",
       "  <thead>\n",
       "    <tr style=\"text-align: right;\">\n",
       "      <th></th>\n",
       "      <th>Age</th>\n",
       "      <th>RestingBP</th>\n",
       "      <th>Cholesterol</th>\n",
       "      <th>FastingBS</th>\n",
       "      <th>MaxHR</th>\n",
       "      <th>Oldpeak</th>\n",
       "      <th>Sex_M</th>\n",
       "      <th>ChestPainType_ATA</th>\n",
       "      <th>ChestPainType_NAP</th>\n",
       "      <th>ChestPainType_TA</th>\n",
       "      <th>RestingECG_Normal</th>\n",
       "      <th>RestingECG_ST</th>\n",
       "      <th>ExerciseAngina_Y</th>\n",
       "      <th>ST_Slope_Flat</th>\n",
       "      <th>ST_Slope_Up</th>\n",
       "    </tr>\n",
       "  </thead>\n",
       "  <tbody>\n",
       "    <tr>\n",
       "      <th>10</th>\n",
       "      <td>37</td>\n",
       "      <td>130.0</td>\n",
       "      <td>211.0</td>\n",
       "      <td>0</td>\n",
       "      <td>142</td>\n",
       "      <td>0.0</td>\n",
       "      <td>0.0</td>\n",
       "      <td>0.0</td>\n",
       "      <td>1.0</td>\n",
       "      <td>0.0</td>\n",
       "      <td>1.0</td>\n",
       "      <td>0.0</td>\n",
       "      <td>0.0</td>\n",
       "      <td>0.0</td>\n",
       "      <td>1.0</td>\n",
       "    </tr>\n",
       "    <tr>\n",
       "      <th>563</th>\n",
       "      <td>55</td>\n",
       "      <td>135.0</td>\n",
       "      <td>204.0</td>\n",
       "      <td>1</td>\n",
       "      <td>126</td>\n",
       "      <td>1.1</td>\n",
       "      <td>1.0</td>\n",
       "      <td>0.0</td>\n",
       "      <td>0.0</td>\n",
       "      <td>0.0</td>\n",
       "      <td>0.0</td>\n",
       "      <td>1.0</td>\n",
       "      <td>1.0</td>\n",
       "      <td>1.0</td>\n",
       "      <td>0.0</td>\n",
       "    </tr>\n",
       "    <tr>\n",
       "      <th>448</th>\n",
       "      <td>63</td>\n",
       "      <td>160.0</td>\n",
       "      <td>230.0</td>\n",
       "      <td>1</td>\n",
       "      <td>105</td>\n",
       "      <td>1.0</td>\n",
       "      <td>1.0</td>\n",
       "      <td>0.0</td>\n",
       "      <td>0.0</td>\n",
       "      <td>0.0</td>\n",
       "      <td>1.0</td>\n",
       "      <td>0.0</td>\n",
       "      <td>1.0</td>\n",
       "      <td>1.0</td>\n",
       "      <td>0.0</td>\n",
       "    </tr>\n",
       "    <tr>\n",
       "      <th>579</th>\n",
       "      <td>69</td>\n",
       "      <td>145.0</td>\n",
       "      <td>289.0</td>\n",
       "      <td>1</td>\n",
       "      <td>110</td>\n",
       "      <td>1.8</td>\n",
       "      <td>1.0</td>\n",
       "      <td>0.0</td>\n",
       "      <td>0.0</td>\n",
       "      <td>0.0</td>\n",
       "      <td>0.0</td>\n",
       "      <td>1.0</td>\n",
       "      <td>1.0</td>\n",
       "      <td>1.0</td>\n",
       "      <td>0.0</td>\n",
       "    </tr>\n",
       "    <tr>\n",
       "      <th>449</th>\n",
       "      <td>55</td>\n",
       "      <td>130.0</td>\n",
       "      <td>237.0</td>\n",
       "      <td>0</td>\n",
       "      <td>155</td>\n",
       "      <td>1.5</td>\n",
       "      <td>1.0</td>\n",
       "      <td>0.0</td>\n",
       "      <td>1.0</td>\n",
       "      <td>0.0</td>\n",
       "      <td>1.0</td>\n",
       "      <td>0.0</td>\n",
       "      <td>0.0</td>\n",
       "      <td>1.0</td>\n",
       "      <td>0.0</td>\n",
       "    </tr>\n",
       "  </tbody>\n",
       "</table>\n",
       "</div>"
      ],
      "text/plain": [
       "     Age  RestingBP  Cholesterol  FastingBS  MaxHR  Oldpeak  Sex_M  \\\n",
       "10    37      130.0        211.0          0    142      0.0    0.0   \n",
       "563   55      135.0        204.0          1    126      1.1    1.0   \n",
       "448   63      160.0        230.0          1    105      1.0    1.0   \n",
       "579   69      145.0        289.0          1    110      1.8    1.0   \n",
       "449   55      130.0        237.0          0    155      1.5    1.0   \n",
       "\n",
       "     ChestPainType_ATA  ChestPainType_NAP  ChestPainType_TA  \\\n",
       "10                 0.0                1.0               0.0   \n",
       "563                0.0                0.0               0.0   \n",
       "448                0.0                0.0               0.0   \n",
       "579                0.0                0.0               0.0   \n",
       "449                0.0                1.0               0.0   \n",
       "\n",
       "     RestingECG_Normal  RestingECG_ST  ExerciseAngina_Y  ST_Slope_Flat  \\\n",
       "10                 1.0            0.0               0.0            0.0   \n",
       "563                0.0            1.0               1.0            1.0   \n",
       "448                1.0            0.0               1.0            1.0   \n",
       "579                0.0            1.0               1.0            1.0   \n",
       "449                1.0            0.0               0.0            1.0   \n",
       "\n",
       "     ST_Slope_Up  \n",
       "10           1.0  \n",
       "563          0.0  \n",
       "448          0.0  \n",
       "579          0.0  \n",
       "449          0.0  "
      ]
     },
     "execution_count": 55,
     "metadata": {},
     "output_type": "execute_result"
    }
   ],
   "source": [
    "from sklearn.preprocessing import OneHotEncoder\n",
    "\n",
    "\n",
    "enc = OneHotEncoder(drop='first', sparse_output=False)\n",
    "encoded = enc.fit_transform(X_train[cat_cols])\n",
    "encoded_df = pd.DataFrame(encoded,columns=enc.get_feature_names_out(cat_cols),index=X_train.index)\n",
    "X_train_hot = pd.concat([X_train.drop(cat_cols,axis=1),encoded_df],axis=1)\n",
    "\n",
    "encoded = enc.transform(X_test[cat_cols])\n",
    "encoded_df = pd.DataFrame(encoded,columns=enc.get_feature_names_out(cat_cols),index=X_test.index)\n",
    "X_test_hot = pd.concat([X_test.drop(cat_cols,axis=1),encoded_df],axis=1)\n",
    "\n",
    "print(X_train.shape,X_train_hot.shape)\n",
    "X_train_hot.head()"
   ]
  },
  {
   "cell_type": "code",
   "execution_count": 56,
   "metadata": {},
   "outputs": [
    {
     "data": {
      "text/plain": [
       "array([[-1.75349184, -0.13132882, -0.60429626, ..., -0.82393069,\n",
       "        -1.01956176,  1.16042704],\n",
       "       [ 0.16419236,  0.14413488, -0.73506127, ...,  1.21369432,\n",
       "         0.98081357, -0.86175172],\n",
       "       [ 1.01649645,  1.52145333, -0.24936267, ...,  1.21369432,\n",
       "         0.98081357, -0.86175172],\n",
       "       ...,\n",
       "       [ 1.65572451,  0.41959857, -0.08123623, ..., -0.82393069,\n",
       "        -1.01956176,  1.16042704],\n",
       "       [ 1.33611048, -0.6822562 , -0.11859766, ..., -0.82393069,\n",
       "        -1.01956176,  1.16042704],\n",
       "       [ 0.05765435,  0.41959857, -0.08123623, ..., -0.82393069,\n",
       "        -1.01956176,  1.16042704]])"
      ]
     },
     "execution_count": 56,
     "metadata": {},
     "output_type": "execute_result"
    }
   ],
   "source": [
    "from sklearn.preprocessing import StandardScaler\n",
    "\n",
    "sc = StandardScaler()\n",
    "X_train_scaled = sc.fit_transform(X_train_hot)\n",
    "X_test_scaled = sc.transform(X_test_hot)\n",
    "\n",
    "X_train_scaled"
   ]
  },
  {
   "cell_type": "code",
   "execution_count": 58,
   "metadata": {},
   "outputs": [
    {
     "name": "stdout",
     "output_type": "stream",
     "text": [
      "Fitting 3 folds for each of 90 candidates, totalling 270 fits\n",
      "Calssifier LogisticRegression(C=0.3)\n",
      "Best CV Score 0.8704216073781291\n",
      "Best Params {'C': 0.3, 'penalty': 'l2', 'solver': 'lbfgs'}\n"
     ]
    }
   ],
   "source": [
    "#Logestic Regression\n",
    "lr = evaluate_classifier(X_train_scaled,y_train,\n",
    "                         LogisticRegression(),\n",
    "                         {'penalty':['l1','l2','elasticnet'],\n",
    "                            'solver':['lbfgs', 'liblinear', 'newton-cg', 'newton-cholesky', 'sag', 'saga'],\n",
    "                            'C':[0.,0.3,0.5, 1., 2.]\n",
    "                         }\n",
    "                        )"
   ]
  },
  {
   "cell_type": "code",
   "execution_count": 59,
   "metadata": {},
   "outputs": [
    {
     "name": "stdout",
     "output_type": "stream",
     "text": [
      "Fitting 3 folds for each of 2560 candidates, totalling 7680 fits\n",
      "Calssifier SVC(C=0.7, coef0=0, degree=1, kernel='sigmoid')\n",
      "Best CV Score 0.8656126482213438\n",
      "Best Params {'C': 0.7, 'coef0': 0, 'degree': 1, 'gamma': 'scale', 'kernel': 'sigmoid'}\n"
     ]
    }
   ],
   "source": [
    "# SVC\n",
    "from sklearn.svm import SVC\n",
    "\n",
    "svc = evaluate_classifier(X_train_scaled,y_train,\n",
    "                          SVC(),\n",
    "                          {\"kernel\":[\"linear\", \"poly\", \"rbf\", \"sigmoid\"], \n",
    "                            \"C\":[0.1,0.3,0.7,1],\n",
    "                            \"degree\": range(1,21),\n",
    "                            'gamma' : ['scale', 'auto'],\n",
    "                            'coef0' : [0,0.1,0.5,1]})"
   ]
  },
  {
   "cell_type": "code",
   "execution_count": 60,
   "metadata": {},
   "outputs": [
    {
     "name": "stdout",
     "output_type": "stream",
     "text": [
      "Fitting 3 folds for each of 56 candidates, totalling 168 fits\n",
      "Calssifier KNeighborsClassifier(n_neighbors=15, weights='distance')\n",
      "Best CV Score 0.8667896354852876\n",
      "Best Params {'algorithm': 'auto', 'n_neighbors': 15, 'weights': 'distance'}\n"
     ]
    }
   ],
   "source": [
    "# KNN\n",
    "from sklearn.neighbors import KNeighborsClassifier\n",
    "\n",
    "knn = evaluate_classifier(X_train_scaled,y_train,\n",
    "                          KNeighborsClassifier(),\n",
    "                          {'n_neighbors': [3, 5, 7, 9, 11, 13 , 15],\n",
    "                            'weights' : ['uniform', 'distance'],\n",
    "                            'algorithm': ['auto','ball_tree','kd_tree','brute']\n",
    "                          })"
   ]
  },
  {
   "cell_type": "code",
   "execution_count": 61,
   "metadata": {},
   "outputs": [],
   "source": [
    "# Try to use Prencipal Component Analysis\n",
    "from sklearn.decomposition import PCA\n",
    "\n",
    "pca = PCA(n_components=5)\n",
    "\n",
    "X_train_pca = pca.fit_transform(X_train_scaled)\n",
    "X_test_pca = pca.transform(X_test_scaled)"
   ]
  },
  {
   "cell_type": "code",
   "execution_count": 62,
   "metadata": {},
   "outputs": [
    {
     "data": {
      "text/plain": [
       "array([3.36852811, 1.66422058, 1.2493852 , 1.19885389, 1.12086347])"
      ]
     },
     "execution_count": 62,
     "metadata": {},
     "output_type": "execute_result"
    }
   ],
   "source": [
    "pca.explained_variance_"
   ]
  },
  {
   "cell_type": "code",
   "execution_count": 63,
   "metadata": {},
   "outputs": [
    {
     "name": "stdout",
     "output_type": "stream",
     "text": [
      "Fitting 3 folds for each of 54 candidates, totalling 162 fits\n",
      "Calssifier LogisticRegression()\n",
      "Best CV Score 0.8559025032938076\n",
      "Best Params {}\n"
     ]
    }
   ],
   "source": [
    "#Logestic Regression with PCA\n",
    "lr_pca = evaluate_classifier(X_train_pca,y_train,\n",
    "                             LogisticRegression(),\n",
    "                             {'penalty':['l1','l2','elasticnet'],\n",
    "                            'solver':['lbfgs', 'liblinear', 'newton-cg', 'newton-cholesky', 'sag', 'saga'],\n",
    "                            'C':[0.5, 1., 2.]\n",
    "                            })"
   ]
  },
  {
   "cell_type": "code",
   "execution_count": 64,
   "metadata": {},
   "outputs": [
    {
     "name": "stdout",
     "output_type": "stream",
     "text": [
      "Fitting 3 folds for each of 2560 candidates, totalling 7680 fits\n",
      "Calssifier SVC(C=0.3, coef0=1, degree=2, kernel='poly')\n",
      "Best CV Score 0.8619587176108915\n",
      "Best Params {'C': 0.3, 'coef0': 1, 'degree': 2, 'gamma': 'scale', 'kernel': 'poly'}\n"
     ]
    }
   ],
   "source": [
    "# SVC with PCA\n",
    "from sklearn.svm import SVC\n",
    "\n",
    "svc_pca = evaluate_classifier(X_train_pca,y_train,\n",
    "                              SVC(),\n",
    "                              {\"kernel\":[\"linear\", \"poly\", \"rbf\", \"sigmoid\"], \n",
    "                              \"C\":[0.1,0.3,0.7,1],\n",
    "                              \"degree\": range(1,21),\n",
    "                              'gamma' : ['scale', 'auto'],\n",
    "                              'coef0' : [0,0.1,0.5,1]\n",
    "                              })"
   ]
  },
  {
   "cell_type": "code",
   "execution_count": 65,
   "metadata": {},
   "outputs": [
    {
     "name": "stdout",
     "output_type": "stream",
     "text": [
      "Fitting 3 folds for each of 40 candidates, totalling 120 fits\n",
      "Calssifier KNeighborsClassifier(n_neighbors=11)\n",
      "Best CV Score 0.8522705314009662\n",
      "Best Params {'algorithm': 'auto', 'n_neighbors': 11, 'weights': 'uniform'}\n"
     ]
    }
   ],
   "source": [
    "# KNN with PCA\n",
    "from sklearn.neighbors import KNeighborsClassifier\n",
    "\n",
    "knn_pca = evaluate_classifier(X_train_pca,y_train,\n",
    "                              KNeighborsClassifier(),\n",
    "                              {'n_neighbors': [3, 5, 7, 9, 11],\n",
    "                              'weights' : ['uniform', 'distance'],\n",
    "                              'algorithm': ['auto','ball_tree','kd_tree','brute']\n",
    "                              })"
   ]
  },
  {
   "cell_type": "code",
   "execution_count": 99,
   "metadata": {},
   "outputs": [
    {
     "data": {
      "text/html": [
       "<div>\n",
       "<style scoped>\n",
       "    .dataframe tbody tr th:only-of-type {\n",
       "        vertical-align: middle;\n",
       "    }\n",
       "\n",
       "    .dataframe tbody tr th {\n",
       "        vertical-align: top;\n",
       "    }\n",
       "\n",
       "    .dataframe thead th {\n",
       "        text-align: right;\n",
       "    }\n",
       "</style>\n",
       "<table border=\"1\" class=\"dataframe\">\n",
       "  <thead>\n",
       "    <tr style=\"text-align: right;\">\n",
       "      <th></th>\n",
       "      <th>model</th>\n",
       "      <th>score</th>\n",
       "      <th>best_params</th>\n",
       "    </tr>\n",
       "  </thead>\n",
       "  <tbody>\n",
       "    <tr>\n",
       "      <th>4</th>\n",
       "      <td>RandomForestClassifier</td>\n",
       "      <td>0.878911</td>\n",
       "      <td>{'ccp_alpha': 0.0, 'criterion': 'entropy', 'ma...</td>\n",
       "    </tr>\n",
       "    <tr>\n",
       "      <th>5</th>\n",
       "      <td>AdaBoostClassifier</td>\n",
       "      <td>0.874071</td>\n",
       "      <td>{'algorithm': 'SAMME.R', 'learning_rate': 0.4,...</td>\n",
       "    </tr>\n",
       "    <tr>\n",
       "      <th>0</th>\n",
       "      <td>LogisticRegression</td>\n",
       "      <td>0.870422</td>\n",
       "      <td>{'C': 0.3, 'penalty': 'l2', 'solver': 'lbfgs'}</td>\n",
       "    </tr>\n",
       "    <tr>\n",
       "      <th>2</th>\n",
       "      <td>KNeighborsClassifier</td>\n",
       "      <td>0.866790</td>\n",
       "      <td>{'algorithm': 'auto', 'n_neighbors': 15, 'weig...</td>\n",
       "    </tr>\n",
       "    <tr>\n",
       "      <th>1</th>\n",
       "      <td>SVC</td>\n",
       "      <td>0.865613</td>\n",
       "      <td>{'C': 0.7, 'coef0': 0, 'degree': 1, 'gamma': '...</td>\n",
       "    </tr>\n",
       "    <tr>\n",
       "      <th>3</th>\n",
       "      <td>DecisionTreeClassifier</td>\n",
       "      <td>0.862003</td>\n",
       "      <td>{'criterion': 'entropy', 'max_depth': 9, 'max_...</td>\n",
       "    </tr>\n",
       "    <tr>\n",
       "      <th>7</th>\n",
       "      <td>SVC With PCA[5]</td>\n",
       "      <td>0.861959</td>\n",
       "      <td>{'C': 0.3, 'coef0': 1, 'degree': 2, 'gamma': '...</td>\n",
       "    </tr>\n",
       "    <tr>\n",
       "      <th>6</th>\n",
       "      <td>LogisticRegression With PCA[5]</td>\n",
       "      <td>0.855903</td>\n",
       "      <td>{}</td>\n",
       "    </tr>\n",
       "    <tr>\n",
       "      <th>8</th>\n",
       "      <td>KNeighborsClassifier With PCA[5]</td>\n",
       "      <td>0.852271</td>\n",
       "      <td>{'algorithm': 'auto', 'n_neighbors': 11, 'weig...</td>\n",
       "    </tr>\n",
       "  </tbody>\n",
       "</table>\n",
       "</div>"
      ],
      "text/plain": [
       "                              model     score  \\\n",
       "4            RandomForestClassifier  0.878911   \n",
       "5                AdaBoostClassifier  0.874071   \n",
       "0                LogisticRegression  0.870422   \n",
       "2              KNeighborsClassifier  0.866790   \n",
       "1                               SVC  0.865613   \n",
       "3            DecisionTreeClassifier  0.862003   \n",
       "7                   SVC With PCA[5]  0.861959   \n",
       "6    LogisticRegression With PCA[5]  0.855903   \n",
       "8  KNeighborsClassifier With PCA[5]  0.852271   \n",
       "\n",
       "                                         best_params  \n",
       "4  {'ccp_alpha': 0.0, 'criterion': 'entropy', 'ma...  \n",
       "5  {'algorithm': 'SAMME.R', 'learning_rate': 0.4,...  \n",
       "0     {'C': 0.3, 'penalty': 'l2', 'solver': 'lbfgs'}  \n",
       "2  {'algorithm': 'auto', 'n_neighbors': 15, 'weig...  \n",
       "1  {'C': 0.7, 'coef0': 0, 'degree': 1, 'gamma': '...  \n",
       "3  {'criterion': 'entropy', 'max_depth': 9, 'max_...  \n",
       "7  {'C': 0.3, 'coef0': 1, 'degree': 2, 'gamma': '...  \n",
       "6                                                 {}  \n",
       "8  {'algorithm': 'auto', 'n_neighbors': 11, 'weig...  "
      ]
     },
     "execution_count": 99,
     "metadata": {},
     "output_type": "execute_result"
    }
   ],
   "source": [
    "res = []\n",
    "\n",
    "\n",
    "for g in [lr,svc,knn,tree,forest,ada]:\n",
    "    res.append([g.best_estimator_.__class__.__name__,g.best_score_,g.best_params_])\n",
    "\n",
    "for g in [lr_pca,svc_pca,knn_pca]:\n",
    "    res.append([g.best_estimator_.__class__.__name__+' With PCA[5]',g.best_score_,g.best_params_])\n",
    "\n",
    "result_df = pd.DataFrame(res,columns=['model','score','best_params'])\n",
    "result_df.sort_values(by='score',ascending=False)"
   ]
  },
  {
   "cell_type": "code",
   "execution_count": 136,
   "metadata": {},
   "outputs": [
    {
     "data": {
      "image/png": "[encoded data removed]",
      "text/plain": [
       "<Figure size 640x480 with 1 Axes>"
      ]
     },
     "metadata": {},
     "output_type": "display_data"
    }
   ],
   "source": [
    "plt.plot(result_df['score'],result_df['model'])\n",
    "plt.show()\n"
   ]
  },
  {
   "cell_type": "code",
   "execution_count": 139,
   "metadata": {},
   "outputs": [
    {
     "name": "stdout",
     "output_type": "stream",
     "text": [
      "Test Accurecy: 0.8260869565217391\n"
     ]
    }
   ],
   "source": [
    "from  sklearn import metrics \n",
    "best = forest.best_estimator_\n",
    "y_pred = best.predict(X_test_labeled)\n",
    "\n",
    "print('Test Accurecy:',metrics.accuracy_score(y_test,y_pred))\n"
   ]
  }
 ],
 "metadata": {
  "kernelspec": {
   "display_name": "Python 3",
   "language": "python",
   "name": "python3"
  },
  "language_info": {
   "codemirror_mode": {
    "name": "ipython",
    "version": 3
   },
   "file_extension": ".py",
   "mimetype": "text/x-python",
   "name": "python",
   "nbconvert_exporter": "python",
   "pygments_lexer": "ipython3",
   "version": "3.11.3"
  }
 },
 "nbformat": 4,
 "nbformat_minor": 2
}
